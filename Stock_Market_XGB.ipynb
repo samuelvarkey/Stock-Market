{
  "nbformat": 4,
  "nbformat_minor": 0,
  "metadata": {
    "colab": {
      "name": "Stock Market XGB.ipynb",
      "provenance": []
    },
    "kernelspec": {
      "name": "python3",
      "display_name": "Python 3"
    }
  },
  "cells": [
    {
      "cell_type": "code",
      "metadata": {
        "id": "DOx37H6J07gj",
        "colab_type": "code",
        "outputId": "8585b649-8b62-4f01-e876-52ac009ce966",
        "colab": {
          "base_uri": "https://localhost:8080/",
          "height": 80
        }
      },
      "source": [
        "import tensorflow as tf\n",
        "import pandas as pd\n",
        "import numpy as np\n",
        "from sklearn.model_selection import train_test_split\n",
        "from keras.callbacks import ModelCheckpoint\n",
        "from keras.models import Sequential\n",
        "from keras.layers import Dense, Activation, Flatten\n",
        "from sklearn.model_selection import train_test_split\n",
        "from sklearn.ensemble import RandomForestRegressor\n",
        "from sklearn.metrics import mean_absolute_error,mean_squared_error,r2_score\n",
        "from matplotlib import pyplot as plt\n",
        "import seaborn as sb\n",
        "import matplotlib.pyplot as plt\n",
        "import pandas as pd\n",
        "import numpy as np\n",
        "import warnings \n",
        "warnings.filterwarnings('ignore')\n",
        "warnings.filterwarnings('ignore', category=DeprecationWarning)\n",
        "from xgboost import XGBRegressor"
      ],
      "execution_count": 0,
      "outputs": [
        {
          "output_type": "display_data",
          "data": {
            "text/html": [
              "<p style=\"color: red;\">\n",
              "The default version of TensorFlow in Colab will soon switch to TensorFlow 2.x.<br>\n",
              "We recommend you <a href=\"https://www.tensorflow.org/guide/migrate\" target=\"_blank\">upgrade</a> now \n",
              "or ensure your notebook will continue to use TensorFlow 1.x via the <code>%tensorflow_version 1.x</code> magic:\n",
              "<a href=\"https://colab.research.google.com/notebooks/tensorflow_version.ipynb\" target=\"_blank\">more info</a>.</p>\n"
            ],
            "text/plain": [
              "<IPython.core.display.HTML object>"
            ]
          },
          "metadata": {
            "tags": []
          }
        },
        {
          "output_type": "stream",
          "text": [
            "Using TensorFlow backend.\n"
          ],
          "name": "stderr"
        }
      ]
    },
    {
      "cell_type": "code",
      "metadata": {
        "id": "kQT_r-8N1HSJ",
        "colab_type": "code",
        "colab": {}
      },
      "source": [
        "!pip install -U -q PyDrive\n",
        "from pydrive.auth import GoogleAuth\n",
        "from pydrive.drive import GoogleDrive\n",
        "from google.colab import auth\n",
        "from oauth2client.client import GoogleCredentials\n"
      ],
      "execution_count": 0,
      "outputs": []
    },
    {
      "cell_type": "code",
      "metadata": {
        "id": "qWPfMEkv1qV2",
        "colab_type": "code",
        "colab": {}
      },
      "source": [
        "auth.authenticate_user()\n",
        "gauth = GoogleAuth()\n",
        "gauth.credentials = GoogleCredentials.get_application_default()\n",
        "drive = GoogleDrive(gauth)"
      ],
      "execution_count": 0,
      "outputs": []
    },
    {
      "cell_type": "code",
      "metadata": {
        "id": "j5xscmUk13A7",
        "colab_type": "code",
        "colab": {}
      },
      "source": [
        "link = 'https://drive.google.com/open?id=1_QxJlcifVbiTIKwXcbHDq9Dwwcw7UmBc'"
      ],
      "execution_count": 0,
      "outputs": []
    },
    {
      "cell_type": "code",
      "metadata": {
        "id": "_JCrQHXH1tzE",
        "colab_type": "code",
        "outputId": "4b6dac2d-e5ae-4f5c-8cbb-d696c72ca3eb",
        "colab": {
          "base_uri": "https://localhost:8080/",
          "height": 34
        }
      },
      "source": [
        "fluff, id = link.split('=')\n",
        "print (id)"
      ],
      "execution_count": 0,
      "outputs": [
        {
          "output_type": "stream",
          "text": [
            "1_QxJlcifVbiTIKwXcbHDq9Dwwcw7UmBc\n"
          ],
          "name": "stdout"
        }
      ]
    },
    {
      "cell_type": "code",
      "metadata": {
        "id": "iIBTeNtW2d8P",
        "colab_type": "code",
        "colab": {}
      },
      "source": [
        "downloaded = drive.CreateFile({'id':id}) \n",
        "downloaded.GetContentFile('Stock.csv')  \n",
        "ip = pd.read_csv('Stock.csv')"
      ],
      "execution_count": 0,
      "outputs": []
    },
    {
      "cell_type": "code",
      "metadata": {
        "id": "nrCB6aYI2lLR",
        "colab_type": "code",
        "outputId": "38cc462c-d6ca-43cd-8a91-62fbf8447e29",
        "colab": {
          "base_uri": "https://localhost:8080/",
          "height": 419
        }
      },
      "source": [
        "ip"
      ],
      "execution_count": 0,
      "outputs": [
        {
          "output_type": "execute_result",
          "data": {
            "text/html": [
              "<div>\n",
              "<style scoped>\n",
              "    .dataframe tbody tr th:only-of-type {\n",
              "        vertical-align: middle;\n",
              "    }\n",
              "\n",
              "    .dataframe tbody tr th {\n",
              "        vertical-align: top;\n",
              "    }\n",
              "\n",
              "    .dataframe thead th {\n",
              "        text-align: right;\n",
              "    }\n",
              "</style>\n",
              "<table border=\"1\" class=\"dataframe\">\n",
              "  <thead>\n",
              "    <tr style=\"text-align: right;\">\n",
              "      <th></th>\n",
              "      <th>Date</th>\n",
              "      <th>Open</th>\n",
              "      <th>High</th>\n",
              "      <th>Low</th>\n",
              "      <th>Close</th>\n",
              "      <th>Volume</th>\n",
              "      <th>OpenInt</th>\n",
              "    </tr>\n",
              "  </thead>\n",
              "  <tbody>\n",
              "    <tr>\n",
              "      <th>0</th>\n",
              "      <td>18-11-1999</td>\n",
              "      <td>30.713</td>\n",
              "      <td>33.754</td>\n",
              "      <td>27.002</td>\n",
              "      <td>29.702</td>\n",
              "      <td>66277506</td>\n",
              "      <td>0</td>\n",
              "    </tr>\n",
              "    <tr>\n",
              "      <th>1</th>\n",
              "      <td>19-11-1999</td>\n",
              "      <td>28.986</td>\n",
              "      <td>29.027</td>\n",
              "      <td>26.872</td>\n",
              "      <td>27.257</td>\n",
              "      <td>16142920</td>\n",
              "      <td>0</td>\n",
              "    </tr>\n",
              "    <tr>\n",
              "      <th>2</th>\n",
              "      <td>22-11-1999</td>\n",
              "      <td>27.886</td>\n",
              "      <td>29.702</td>\n",
              "      <td>27.044</td>\n",
              "      <td>29.702</td>\n",
              "      <td>6970266</td>\n",
              "      <td>0</td>\n",
              "    </tr>\n",
              "    <tr>\n",
              "      <th>3</th>\n",
              "      <td>23-11-1999</td>\n",
              "      <td>28.688</td>\n",
              "      <td>29.446</td>\n",
              "      <td>27.002</td>\n",
              "      <td>27.002</td>\n",
              "      <td>6332082</td>\n",
              "      <td>0</td>\n",
              "    </tr>\n",
              "    <tr>\n",
              "      <th>4</th>\n",
              "      <td>24-11-1999</td>\n",
              "      <td>27.083</td>\n",
              "      <td>28.309</td>\n",
              "      <td>27.002</td>\n",
              "      <td>27.717</td>\n",
              "      <td>5132147</td>\n",
              "      <td>0</td>\n",
              "    </tr>\n",
              "    <tr>\n",
              "      <th>...</th>\n",
              "      <td>...</td>\n",
              "      <td>...</td>\n",
              "      <td>...</td>\n",
              "      <td>...</td>\n",
              "      <td>...</td>\n",
              "      <td>...</td>\n",
              "      <td>...</td>\n",
              "    </tr>\n",
              "    <tr>\n",
              "      <th>4516</th>\n",
              "      <td>06-11-2017</td>\n",
              "      <td>68.220</td>\n",
              "      <td>68.450</td>\n",
              "      <td>68.220</td>\n",
              "      <td>68.220</td>\n",
              "      <td>995731</td>\n",
              "      <td>0</td>\n",
              "    </tr>\n",
              "    <tr>\n",
              "      <th>4517</th>\n",
              "      <td>07-11-2017</td>\n",
              "      <td>68.320</td>\n",
              "      <td>68.640</td>\n",
              "      <td>68.040</td>\n",
              "      <td>68.250</td>\n",
              "      <td>966466</td>\n",
              "      <td>0</td>\n",
              "    </tr>\n",
              "    <tr>\n",
              "      <th>4518</th>\n",
              "      <td>08-11-2017</td>\n",
              "      <td>68.100</td>\n",
              "      <td>68.330</td>\n",
              "      <td>67.771</td>\n",
              "      <td>68.110</td>\n",
              "      <td>972616</td>\n",
              "      <td>0</td>\n",
              "    </tr>\n",
              "    <tr>\n",
              "      <th>4519</th>\n",
              "      <td>09-11-2017</td>\n",
              "      <td>67.920</td>\n",
              "      <td>67.980</td>\n",
              "      <td>66.910</td>\n",
              "      <td>67.470</td>\n",
              "      <td>1673083</td>\n",
              "      <td>0</td>\n",
              "    </tr>\n",
              "    <tr>\n",
              "      <th>4520</th>\n",
              "      <td>10-11-2017</td>\n",
              "      <td>67.350</td>\n",
              "      <td>67.580</td>\n",
              "      <td>66.700</td>\n",
              "      <td>66.810</td>\n",
              "      <td>1704549</td>\n",
              "      <td>0</td>\n",
              "    </tr>\n",
              "  </tbody>\n",
              "</table>\n",
              "<p>4521 rows × 7 columns</p>\n",
              "</div>"
            ],
            "text/plain": [
              "            Date    Open    High     Low   Close    Volume  OpenInt\n",
              "0     18-11-1999  30.713  33.754  27.002  29.702  66277506        0\n",
              "1     19-11-1999  28.986  29.027  26.872  27.257  16142920        0\n",
              "2     22-11-1999  27.886  29.702  27.044  29.702   6970266        0\n",
              "3     23-11-1999  28.688  29.446  27.002  27.002   6332082        0\n",
              "4     24-11-1999  27.083  28.309  27.002  27.717   5132147        0\n",
              "...          ...     ...     ...     ...     ...       ...      ...\n",
              "4516  06-11-2017  68.220  68.450  68.220  68.220    995731        0\n",
              "4517  07-11-2017  68.320  68.640  68.040  68.250    966466        0\n",
              "4518  08-11-2017  68.100  68.330  67.771  68.110    972616        0\n",
              "4519  09-11-2017  67.920  67.980  66.910  67.470   1673083        0\n",
              "4520  10-11-2017  67.350  67.580  66.700  66.810   1704549        0\n",
              "\n",
              "[4521 rows x 7 columns]"
            ]
          },
          "metadata": {
            "tags": []
          },
          "execution_count": 8
        }
      ]
    },
    {
      "cell_type": "code",
      "metadata": {
        "id": "Gvu7MMbM_XGI",
        "colab_type": "code",
        "colab": {}
      },
      "source": [
        "X=ip.drop('Date',axis=1).drop('Close',axis=1)\n",
        "y=ip['Close']"
      ],
      "execution_count": 0,
      "outputs": []
    },
    {
      "cell_type": "code",
      "metadata": {
        "id": "AMU1wt06fF0E",
        "colab_type": "code",
        "outputId": "f69877c5-6692-484a-9108-9640939d63fb",
        "colab": {
          "base_uri": "https://localhost:8080/",
          "height": 419
        }
      },
      "source": [
        "X"
      ],
      "execution_count": 0,
      "outputs": [
        {
          "output_type": "execute_result",
          "data": {
            "text/html": [
              "<div>\n",
              "<style scoped>\n",
              "    .dataframe tbody tr th:only-of-type {\n",
              "        vertical-align: middle;\n",
              "    }\n",
              "\n",
              "    .dataframe tbody tr th {\n",
              "        vertical-align: top;\n",
              "    }\n",
              "\n",
              "    .dataframe thead th {\n",
              "        text-align: right;\n",
              "    }\n",
              "</style>\n",
              "<table border=\"1\" class=\"dataframe\">\n",
              "  <thead>\n",
              "    <tr style=\"text-align: right;\">\n",
              "      <th></th>\n",
              "      <th>Open</th>\n",
              "      <th>High</th>\n",
              "      <th>Low</th>\n",
              "      <th>Volume</th>\n",
              "      <th>OpenInt</th>\n",
              "    </tr>\n",
              "  </thead>\n",
              "  <tbody>\n",
              "    <tr>\n",
              "      <th>0</th>\n",
              "      <td>30.713</td>\n",
              "      <td>33.754</td>\n",
              "      <td>27.002</td>\n",
              "      <td>66277506</td>\n",
              "      <td>0</td>\n",
              "    </tr>\n",
              "    <tr>\n",
              "      <th>1</th>\n",
              "      <td>28.986</td>\n",
              "      <td>29.027</td>\n",
              "      <td>26.872</td>\n",
              "      <td>16142920</td>\n",
              "      <td>0</td>\n",
              "    </tr>\n",
              "    <tr>\n",
              "      <th>2</th>\n",
              "      <td>27.886</td>\n",
              "      <td>29.702</td>\n",
              "      <td>27.044</td>\n",
              "      <td>6970266</td>\n",
              "      <td>0</td>\n",
              "    </tr>\n",
              "    <tr>\n",
              "      <th>3</th>\n",
              "      <td>28.688</td>\n",
              "      <td>29.446</td>\n",
              "      <td>27.002</td>\n",
              "      <td>6332082</td>\n",
              "      <td>0</td>\n",
              "    </tr>\n",
              "    <tr>\n",
              "      <th>4</th>\n",
              "      <td>27.083</td>\n",
              "      <td>28.309</td>\n",
              "      <td>27.002</td>\n",
              "      <td>5132147</td>\n",
              "      <td>0</td>\n",
              "    </tr>\n",
              "    <tr>\n",
              "      <th>...</th>\n",
              "      <td>...</td>\n",
              "      <td>...</td>\n",
              "      <td>...</td>\n",
              "      <td>...</td>\n",
              "      <td>...</td>\n",
              "    </tr>\n",
              "    <tr>\n",
              "      <th>4516</th>\n",
              "      <td>68.220</td>\n",
              "      <td>68.450</td>\n",
              "      <td>68.220</td>\n",
              "      <td>995731</td>\n",
              "      <td>0</td>\n",
              "    </tr>\n",
              "    <tr>\n",
              "      <th>4517</th>\n",
              "      <td>68.320</td>\n",
              "      <td>68.640</td>\n",
              "      <td>68.040</td>\n",
              "      <td>966466</td>\n",
              "      <td>0</td>\n",
              "    </tr>\n",
              "    <tr>\n",
              "      <th>4518</th>\n",
              "      <td>68.100</td>\n",
              "      <td>68.330</td>\n",
              "      <td>67.771</td>\n",
              "      <td>972616</td>\n",
              "      <td>0</td>\n",
              "    </tr>\n",
              "    <tr>\n",
              "      <th>4519</th>\n",
              "      <td>67.920</td>\n",
              "      <td>67.980</td>\n",
              "      <td>66.910</td>\n",
              "      <td>1673083</td>\n",
              "      <td>0</td>\n",
              "    </tr>\n",
              "    <tr>\n",
              "      <th>4520</th>\n",
              "      <td>67.350</td>\n",
              "      <td>67.580</td>\n",
              "      <td>66.700</td>\n",
              "      <td>1704549</td>\n",
              "      <td>0</td>\n",
              "    </tr>\n",
              "  </tbody>\n",
              "</table>\n",
              "<p>4521 rows × 5 columns</p>\n",
              "</div>"
            ],
            "text/plain": [
              "        Open    High     Low    Volume  OpenInt\n",
              "0     30.713  33.754  27.002  66277506        0\n",
              "1     28.986  29.027  26.872  16142920        0\n",
              "2     27.886  29.702  27.044   6970266        0\n",
              "3     28.688  29.446  27.002   6332082        0\n",
              "4     27.083  28.309  27.002   5132147        0\n",
              "...      ...     ...     ...       ...      ...\n",
              "4516  68.220  68.450  68.220    995731        0\n",
              "4517  68.320  68.640  68.040    966466        0\n",
              "4518  68.100  68.330  67.771    972616        0\n",
              "4519  67.920  67.980  66.910   1673083        0\n",
              "4520  67.350  67.580  66.700   1704549        0\n",
              "\n",
              "[4521 rows x 5 columns]"
            ]
          },
          "metadata": {
            "tags": []
          },
          "execution_count": 10
        }
      ]
    },
    {
      "cell_type": "code",
      "metadata": {
        "id": "0ZkxYgGYdIMi",
        "colab_type": "code",
        "outputId": "179f3da5-b5ec-4c3d-c959-8eb0aa9b168c",
        "colab": {
          "base_uri": "https://localhost:8080/",
          "height": 221
        }
      },
      "source": [
        "y"
      ],
      "execution_count": 0,
      "outputs": [
        {
          "output_type": "execute_result",
          "data": {
            "text/plain": [
              "0       29.702\n",
              "1       27.257\n",
              "2       29.702\n",
              "3       27.002\n",
              "4       27.717\n",
              "         ...  \n",
              "4516    68.220\n",
              "4517    68.250\n",
              "4518    68.110\n",
              "4519    67.470\n",
              "4520    66.810\n",
              "Name: Close, Length: 4521, dtype: float64"
            ]
          },
          "metadata": {
            "tags": []
          },
          "execution_count": 11
        }
      ]
    },
    {
      "cell_type": "code",
      "metadata": {
        "id": "owQ9JFvv_9A3",
        "colab_type": "code",
        "colab": {}
      },
      "source": [
        "X_train, X_test, y_train, y_test = train_test_split(X, y, test_size = 0.10,random_state=99)"
      ],
      "execution_count": 0,
      "outputs": []
    },
    {
      "cell_type": "code",
      "metadata": {
        "id": "xQyzMXOPIvGz",
        "colab_type": "code",
        "outputId": "9691d40a-3420-43fc-8891-bb4aec6b340c",
        "colab": {
          "base_uri": "https://localhost:8080/",
          "height": 153
        }
      },
      "source": [
        "XGBModel = XGBRegressor()\n",
        "XGBModel.fit(X_train,y_train,verbose=False)"
      ],
      "execution_count": 0,
      "outputs": [
        {
          "output_type": "stream",
          "text": [
            "[07:28:07] WARNING: /workspace/src/objective/regression_obj.cu:152: reg:linear is now deprecated in favor of reg:squarederror.\n"
          ],
          "name": "stdout"
        },
        {
          "output_type": "execute_result",
          "data": {
            "text/plain": [
              "XGBRegressor(base_score=0.5, booster='gbtree', colsample_bylevel=1,\n",
              "             colsample_bynode=1, colsample_bytree=1, gamma=0,\n",
              "             importance_type='gain', learning_rate=0.1, max_delta_step=0,\n",
              "             max_depth=3, min_child_weight=1, missing=None, n_estimators=100,\n",
              "             n_jobs=1, nthread=None, objective='reg:linear', random_state=0,\n",
              "             reg_alpha=0, reg_lambda=1, scale_pos_weight=1, seed=None,\n",
              "             silent=None, subsample=1, verbosity=1)"
            ]
          },
          "metadata": {
            "tags": []
          },
          "execution_count": 13
        }
      ]
    },
    {
      "cell_type": "code",
      "metadata": {
        "id": "BOfx8b2XJDLM",
        "colab_type": "code",
        "colab": {}
      },
      "source": [
        "pred=XGBModel.predict(X_test)"
      ],
      "execution_count": 0,
      "outputs": []
    },
    {
      "cell_type": "code",
      "metadata": {
        "id": "vuqT6DzLdZwm",
        "colab_type": "code",
        "outputId": "a73c4eb6-25cd-420e-fb62-65eea722180e",
        "colab": {
          "base_uri": "https://localhost:8080/",
          "height": 1000
        }
      },
      "source": [
        "pred"
      ],
      "execution_count": 0,
      "outputs": [
        {
          "output_type": "execute_result",
          "data": {
            "text/plain": [
              "array([55.448437 , 21.604582 , 13.760755 , 36.69772  , 41.262684 ,\n",
              "       25.785183 , 30.566732 , 46.42087  , 23.144558 , 13.809984 ,\n",
              "       46.371933 , 32.864376 , 20.975603 , 26.396084 , 21.264093 ,\n",
              "       20.418781 , 14.513647 , 39.085484 , 39.02848  , 19.247652 ,\n",
              "       21.667643 , 22.577478 , 24.765978 ,  9.510729 , 12.971201 ,\n",
              "       27.633533 , 38.287758 , 12.536129 , 45.77453  , 14.888793 ,\n",
              "       50.618034 , 24.247879 , 16.85958  , 40.734592 , 24.312319 ,\n",
              "       42.06481  , 18.042524 , 30.23623  , 24.897808 , 21.344206 ,\n",
              "       23.60897  , 39.269417 , 44.613457 , 51.4719   , 31.944221 ,\n",
              "       25.27808  , 26.396084 , 21.00132  , 25.785183 , 17.736517 ,\n",
              "       40.475266 , 40.734592 , 39.749138 , 34.760174 , 46.22031  ,\n",
              "       24.574768 , 16.062445 , 31.958359 , 25.088146 , 41.288136 ,\n",
              "       24.247879 , 19.815718 , 44.61327  , 11.060686 , 14.513647 ,\n",
              "       16.585978 , 18.915457 , 19.815718 , 22.42127  , 23.243631 ,\n",
              "       24.312319 , 21.604582 , 17.259623 , 24.247879 , 13.229282 ,\n",
              "       20.716522 , 12.536129 , 20.428753 , 12.24063  , 29.80605  ,\n",
              "       16.85958  , 28.640892 , 32.864376 , 16.85958  , 38.31157  ,\n",
              "       21.604582 , 41.120235 , 22.523666 , 38.287758 , 29.209099 ,\n",
              "       29.148804 , 25.088146 , 21.983162 , 21.667643 , 30.566732 ,\n",
              "       50.618034 , 39.094887 , 49.387745 , 22.643568 , 57.065445 ,\n",
              "       41.262684 , 25.813595 , 21.909    , 25.627216 , 50.458084 ,\n",
              "       34.17015  , 15.091632 , 27.633533 , 22.663118 , 16.450045 ,\n",
              "       12.24063  , 11.725926 , 16.450045 , 37.60384  , 60.322056 ,\n",
              "       27.16512  , 11.725926 , 34.17015  , 24.677088 , 25.85351  ,\n",
              "       11.411054 , 39.02848  , 29.965689 , 18.45818  , 15.548514 ,\n",
              "       22.613838 , 17.350763 , 36.172825 , 21.604582 , 13.229282 ,\n",
              "       17.161995 , 18.042524 , 18.418377 , 17.157055 , 24.732508 ,\n",
              "       11.827004 , 32.9739   , 22.643568 , 38.287758 , 11.346886 ,\n",
              "       46.673695 , 24.247879 , 11.346886 , 19.788633 ,  9.415389 ,\n",
              "       21.315826 , 60.354877 , 40.734592 , 32.864376 , 21.205097 ,\n",
              "       13.229282 , 13.809984 , 46.443226 , 26.790619 , 34.795498 ,\n",
              "       36.22076  , 39.535606 , 30.566732 , 52.78994  , 24.247879 ,\n",
              "       25.088146 , 23.087423 , 14.888793 , 28.640892 , 41.120235 ,\n",
              "       61.632145 , 22.43808  , 19.788633 , 29.697733 , 16.048725 ,\n",
              "       23.60897  , 30.566732 , 16.048725 , 12.962944 , 41.288136 ,\n",
              "       37.29054  , 33.838264 , 17.448914 , 10.60755  , 10.290518 ,\n",
              "       23.767893 , 28.19944  , 24.37854  , 13.24882  , 62.464397 ,\n",
              "       23.087423 , 26.86161  , 30.23623  , 22.49307  , 34.898712 ,\n",
              "       44.30205  , 23.60897  , 14.888793 , 18.45818  , 25.785183 ,\n",
              "       20.716522 , 22.177551 , 16.85958  , 23.79345  , 19.788633 ,\n",
              "       23.79345  , 10.763605 , 17.736517 , 12.536129 , 15.548514 ,\n",
              "       23.60897  , 13.809984 , 13.229282 , 30.659878 , 16.13848  ,\n",
              "       25.088146 , 29.377644 , 37.96912  , 22.819326 , 58.942417 ,\n",
              "       10.991418 , 24.750353 , 43.125244 , 20.742239 , 19.815718 ,\n",
              "       43.125244 , 31.958359 , 28.640892 , 22.875643 , 19.226984 ,\n",
              "       28.640892 , 14.8941345, 31.175783 , 28.640892 , 73.739624 ,\n",
              "       21.972061 , 35.660538 , 22.49307  , 23.60897  , 29.704601 ,\n",
              "       12.971201 , 52.799217 , 20.371029 , 43.75829  , 26.790619 ,\n",
              "       13.229282 , 26.872581 , 14.8011   , 26.790619 , 22.13366  ,\n",
              "       12.797234 , 39.815163 , 26.790619 , 39.925716 , 45.69649  ,\n",
              "       20.578903 , 20.578903 , 20.864609 , 19.226984 , 19.788633 ,\n",
              "       19.815718 , 26.396084 , 23.60897  , 16.85958  , 16.962149 ,\n",
              "       50.618034 , 32.864376 , 62.21627  , 39.094887 , 24.952036 ,\n",
              "       25.785183 , 20.578903 , 28.905024 , 52.81359  , 66.91459  ,\n",
              "       20.48385  , 13.24882  , 21.972061 , 29.12809  , 25.813595 ,\n",
              "       38.963154 , 34.623512 , 18.042524 , 12.536129 , 13.229282 ,\n",
              "       29.052082 , 22.875643 , 35.26592  , 25.088146 , 60.299843 ,\n",
              "       24.96766  , 23.334673 , 21.909    , 24.93484  , 22.952328 ,\n",
              "       39.749138 , 25.785183 , 58.99131  , 24.247879 , 21.604582 ,\n",
              "       65.69188  , 38.888355 , 78.65839  , 34.760174 , 18.45818  ,\n",
              "       41.35651  , 21.407175 , 25.738115 , 11.725926 , 39.269417 ,\n",
              "       21.205097 , 25.112108 , 38.353085 , 45.468437 , 25.088146 ,\n",
              "       22.287582 , 14.888793 , 40.034264 , 19.815718 , 14.403843 ,\n",
              "       23.087423 , 52.716354 , 18.9293   , 40.887135 , 38.41949  ,\n",
              "       26.569073 , 19.024591 , 28.93251  , 18.042524 , 35.230595 ,\n",
              "       52.01181  , 28.19944  , 16.048725 , 28.279541 , 21.972061 ,\n",
              "       19.788633 , 17.736517 , 24.897808 , 23.402554 , 20.742931 ,\n",
              "       22.674164 , 25.769245 , 78.10064  , 19.226984 , 31.958359 ,\n",
              "       27.597174 , 59.985775 , 52.926384 , 28.386406 , 12.213147 ,\n",
              "       24.849995 , 18.418377 , 30.23623  , 12.536129 , 12.24063  ,\n",
              "       32.864376 , 22.952328 , 35.742878 , 22.177551 , 21.336643 ,\n",
              "       22.523666 , 24.247879 , 16.010239 , 26.396084 , 29.929329 ,\n",
              "       40.062405 , 23.144558 , 23.79345  , 23.144558 , 24.87877  ,\n",
              "       31.268929 , 11.124854 , 17.157055 , 25.813595 , 21.909    ,\n",
              "       39.269417 , 37.619026 ,  9.415389 , 22.177551 , 16.062445 ,\n",
              "       19.815718 , 25.088146 , 16.010113 , 26.396084 , 12.536129 ,\n",
              "       19.97584  , 31.175783 , 65.668594 , 11.060686 , 64.23871  ,\n",
              "       15.472775 , 38.287758 , 25.785183 , 52.77576  , 38.287758 ,\n",
              "       21.205097 , 29.177513 , 44.841324 , 24.761698 , 20.643972 ,\n",
              "       21.407175 , 32.9739   , 20.695179 , 38.847244 , 13.24882  ,\n",
              "       19.97584  , 23.79345  , 28.93251  , 30.23623  , 25.088146 ,\n",
              "       47.37497  , 24.222322 , 17.736517 , 33.838264 , 12.24063  ,\n",
              "       19.037172 , 24.885815 , 15.472775 , 16.85958  , 10.290518 ,\n",
              "       25.6045   , 58.942417 , 19.037172 , 12.971201 , 19.182774 ,\n",
              "       51.511665 , 29.704601 , 38.000286 , 66.83187  , 19.04573  ,\n",
              "       35.47916  , 14.8011   , 29.98062  , 80.9626   , 16.585978 ,\n",
              "       19.226984 , 17.736517 , 39.269417 , 25.627216 , 27.626745 ,\n",
              "       21.909    , 31.175783 , 23.60897  , 26.790619 , 32.9739   ,\n",
              "       23.087423 , 17.736517 , 24.222322 , 17.736517 , 44.565407 ,\n",
              "        9.163493 , 31.175783 , 14.888793 , 20.643972 , 51.545486 ,\n",
              "       10.763605 , 22.523666 , 14.888793 ], dtype=float32)"
            ]
          },
          "metadata": {
            "tags": []
          },
          "execution_count": 15
        }
      ]
    },
    {
      "cell_type": "code",
      "metadata": {
        "id": "lcIo7HDedbO3",
        "colab_type": "code",
        "colab": {}
      },
      "source": [
        "test_set_rmse=(np.sqrt(mean_squared_error(y_test,pred)))\n",
        "test_set_r2=r2_score(y_test,pred)\n",
        "test_set_mae=mean_absolute_error(y_test,pred)"
      ],
      "execution_count": 0,
      "outputs": []
    },
    {
      "cell_type": "code",
      "metadata": {
        "id": "-p6jmjs5etyd",
        "colab_type": "code",
        "outputId": "1c272b30-9591-4443-8f02-9424d23ff7d5",
        "colab": {
          "base_uri": "https://localhost:8080/",
          "height": 34
        }
      },
      "source": [
        "test_set_rmse"
      ],
      "execution_count": 0,
      "outputs": [
        {
          "output_type": "execute_result",
          "data": {
            "text/plain": [
              "0.5368128879209143"
            ]
          },
          "metadata": {
            "tags": []
          },
          "execution_count": 17
        }
      ]
    },
    {
      "cell_type": "code",
      "metadata": {
        "id": "a7hMIUapewK0",
        "colab_type": "code",
        "outputId": "5b3c0eb6-d256-4c9a-ea3c-750f3c4e2709",
        "colab": {
          "base_uri": "https://localhost:8080/",
          "height": 34
        }
      },
      "source": [
        "test_set_r2"
      ],
      "execution_count": 0,
      "outputs": [
        {
          "output_type": "execute_result",
          "data": {
            "text/plain": [
              "0.9982622718475536"
            ]
          },
          "metadata": {
            "tags": []
          },
          "execution_count": 18
        }
      ]
    },
    {
      "cell_type": "code",
      "metadata": {
        "id": "sUifzlc1eySj",
        "colab_type": "code",
        "outputId": "c650d3b4-8c17-49e3-9644-f701025e33bc",
        "colab": {
          "base_uri": "https://localhost:8080/",
          "height": 34
        }
      },
      "source": [
        "test_set_mae"
      ],
      "execution_count": 0,
      "outputs": [
        {
          "output_type": "execute_result",
          "data": {
            "text/plain": [
              "0.29015932293148755"
            ]
          },
          "metadata": {
            "tags": []
          },
          "execution_count": 19
        }
      ]
    },
    {
      "cell_type": "code",
      "metadata": {
        "id": "dDbNL6Zve0uE",
        "colab_type": "code",
        "outputId": "652b876b-547c-4a25-989c-4d88281ac409",
        "colab": {
          "base_uri": "https://localhost:8080/",
          "height": 281
        }
      },
      "source": [
        "x=np.arange(0,453)\n",
        "plt.title('Close XGB')\n",
        "plt.plot(x,pred,'b-',label='prediction')\n",
        "plt.plot(x,y_test,'r-',label='actual')\n",
        "plt.legend()\n",
        "plt.show()"
      ],
      "execution_count": 0,
      "outputs": [
        {
          "output_type": "display_data",
          "data": {
            "image/png": "[encoded data removed]",
            "text/plain": [
              "<Figure size 432x288 with 1 Axes>"
            ]
          },
          "metadata": {
            "tags": []
          }
        }
      ]
    },
    {
      "cell_type": "code",
      "metadata": {
        "id": "gyW5jGTdRzNh",
        "colab_type": "code",
        "outputId": "31e21e03-5918-464b-9430-21a260b20360",
        "colab": {
          "base_uri": "https://localhost:8080/",
          "height": 281
        }
      },
      "source": [
        "x=np.arange(0,453)\n",
        "plt.title('Close XGB')\n",
        "plt.plot(x,y_test,'r-',label='actual')\n",
        "plt.legend()\n",
        "plt.show()"
      ],
      "execution_count": 0,
      "outputs": [
        {
          "output_type": "display_data",
          "data": {
            "image/png": "[encoded data removed]",
            "text/plain": [
              "<Figure size 432x288 with 1 Axes>"
            ]
          },
          "metadata": {
            "tags": []
          }
        }
      ]
    },
    {
      "cell_type": "code",
      "metadata": {
        "id": "VZnW7r0Txrh9",
        "colab_type": "code",
        "outputId": "f1324487-5630-4307-c28b-195479843d54",
        "colab": {
          "base_uri": "https://localhost:8080/",
          "height": 281
        }
      },
      "source": [
        "x=np.arange(0,453)\n",
        "plt.title('Close XGB')\n",
        "plt.plot(x,pred,'b-',label='prediction')\n",
        "plt.legend()\n",
        "plt.show()"
      ],
      "execution_count": 0,
      "outputs": [
        {
          "output_type": "display_data",
          "data": {
            "image/png": "[encoded data removed]",
            "text/plain": [
              "<Figure size 432x288 with 1 Axes>"
            ]
          },
          "metadata": {
            "tags": []
          }
        }
      ]
    },
    {
      "cell_type": "code",
      "metadata": {
        "id": "xVtN9DFTxtTf",
        "colab_type": "code",
        "colab": {}
      },
      "source": [
        ""
      ],
      "execution_count": 0,
      "outputs": []
    }
  ]
}