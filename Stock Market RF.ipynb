{
 "cells": [
  {
   "cell_type": "code",
   "execution_count": 1,
   "metadata": {},
   "outputs": [],
   "source": [
    "import numpy as np\n",
    "import pandas as pd\n",
    "from sklearn.ensemble import RandomForestRegressor \n",
    "from sklearn import datasets\n",
    "from sklearn.model_selection import train_test_split\n",
    "from sklearn.feature_selection import SelectFromModel\n",
    "from sklearn.metrics import accuracy_score\n",
    "from sklearn.metrics import mean_squared_error,r2_score,mean_absolute_error\n",
    "import matplotlib.pyplot as plt"
   ]
  },
  {
   "cell_type": "code",
   "execution_count": 2,
   "metadata": {},
   "outputs": [],
   "source": [
    "labels=['Open','High','Low','Volume','OpenInt']"
   ]
  },
  {
   "cell_type": "code",
   "execution_count": 3,
   "metadata": {},
   "outputs": [],
   "source": [
    "ip = pd.read_csv(\"Downloads/Stock.csv\")"
   ]
  },
  {
   "cell_type": "code",
   "execution_count": 4,
   "metadata": {},
   "outputs": [
    {
     "data": {
      "text/html": [
       "<div>\n",
       "<style scoped>\n",
       "    .dataframe tbody tr th:only-of-type {\n",
       "        vertical-align: middle;\n",
       "    }\n",
       "\n",
       "    .dataframe tbody tr th {\n",
       "        vertical-align: top;\n",
       "    }\n",
       "\n",
       "    .dataframe thead th {\n",
       "        text-align: right;\n",
       "    }\n",
       "</style>\n",
       "<table border=\"1\" class=\"dataframe\">\n",
       "  <thead>\n",
       "    <tr style=\"text-align: right;\">\n",
       "      <th></th>\n",
       "      <th>Date</th>\n",
       "      <th>Open</th>\n",
       "      <th>High</th>\n",
       "      <th>Low</th>\n",
       "      <th>Close</th>\n",
       "      <th>Volume</th>\n",
       "      <th>OpenInt</th>\n",
       "    </tr>\n",
       "  </thead>\n",
       "  <tbody>\n",
       "    <tr>\n",
       "      <td>0</td>\n",
       "      <td>18-11-1999</td>\n",
       "      <td>30.713</td>\n",
       "      <td>33.754</td>\n",
       "      <td>27.002</td>\n",
       "      <td>29.702</td>\n",
       "      <td>66277506</td>\n",
       "      <td>0</td>\n",
       "    </tr>\n",
       "    <tr>\n",
       "      <td>1</td>\n",
       "      <td>19-11-1999</td>\n",
       "      <td>28.986</td>\n",
       "      <td>29.027</td>\n",
       "      <td>26.872</td>\n",
       "      <td>27.257</td>\n",
       "      <td>16142920</td>\n",
       "      <td>0</td>\n",
       "    </tr>\n",
       "    <tr>\n",
       "      <td>2</td>\n",
       "      <td>22-11-1999</td>\n",
       "      <td>27.886</td>\n",
       "      <td>29.702</td>\n",
       "      <td>27.044</td>\n",
       "      <td>29.702</td>\n",
       "      <td>6970266</td>\n",
       "      <td>0</td>\n",
       "    </tr>\n",
       "    <tr>\n",
       "      <td>3</td>\n",
       "      <td>23-11-1999</td>\n",
       "      <td>28.688</td>\n",
       "      <td>29.446</td>\n",
       "      <td>27.002</td>\n",
       "      <td>27.002</td>\n",
       "      <td>6332082</td>\n",
       "      <td>0</td>\n",
       "    </tr>\n",
       "    <tr>\n",
       "      <td>4</td>\n",
       "      <td>24-11-1999</td>\n",
       "      <td>27.083</td>\n",
       "      <td>28.309</td>\n",
       "      <td>27.002</td>\n",
       "      <td>27.717</td>\n",
       "      <td>5132147</td>\n",
       "      <td>0</td>\n",
       "    </tr>\n",
       "    <tr>\n",
       "      <td>...</td>\n",
       "      <td>...</td>\n",
       "      <td>...</td>\n",
       "      <td>...</td>\n",
       "      <td>...</td>\n",
       "      <td>...</td>\n",
       "      <td>...</td>\n",
       "      <td>...</td>\n",
       "    </tr>\n",
       "    <tr>\n",
       "      <td>4516</td>\n",
       "      <td>06-11-2017</td>\n",
       "      <td>68.220</td>\n",
       "      <td>68.450</td>\n",
       "      <td>68.220</td>\n",
       "      <td>68.220</td>\n",
       "      <td>995731</td>\n",
       "      <td>0</td>\n",
       "    </tr>\n",
       "    <tr>\n",
       "      <td>4517</td>\n",
       "      <td>07-11-2017</td>\n",
       "      <td>68.320</td>\n",
       "      <td>68.640</td>\n",
       "      <td>68.040</td>\n",
       "      <td>68.250</td>\n",
       "      <td>966466</td>\n",
       "      <td>0</td>\n",
       "    </tr>\n",
       "    <tr>\n",
       "      <td>4518</td>\n",
       "      <td>08-11-2017</td>\n",
       "      <td>68.100</td>\n",
       "      <td>68.330</td>\n",
       "      <td>67.771</td>\n",
       "      <td>68.110</td>\n",
       "      <td>972616</td>\n",
       "      <td>0</td>\n",
       "    </tr>\n",
       "    <tr>\n",
       "      <td>4519</td>\n",
       "      <td>09-11-2017</td>\n",
       "      <td>67.920</td>\n",
       "      <td>67.980</td>\n",
       "      <td>66.910</td>\n",
       "      <td>67.470</td>\n",
       "      <td>1673083</td>\n",
       "      <td>0</td>\n",
       "    </tr>\n",
       "    <tr>\n",
       "      <td>4520</td>\n",
       "      <td>10-11-2017</td>\n",
       "      <td>67.350</td>\n",
       "      <td>67.580</td>\n",
       "      <td>66.700</td>\n",
       "      <td>66.810</td>\n",
       "      <td>1704549</td>\n",
       "      <td>0</td>\n",
       "    </tr>\n",
       "  </tbody>\n",
       "</table>\n",
       "<p>4521 rows × 7 columns</p>\n",
       "</div>"
      ],
      "text/plain": [
       "            Date    Open    High     Low   Close    Volume  OpenInt\n",
       "0     18-11-1999  30.713  33.754  27.002  29.702  66277506        0\n",
       "1     19-11-1999  28.986  29.027  26.872  27.257  16142920        0\n",
       "2     22-11-1999  27.886  29.702  27.044  29.702   6970266        0\n",
       "3     23-11-1999  28.688  29.446  27.002  27.002   6332082        0\n",
       "4     24-11-1999  27.083  28.309  27.002  27.717   5132147        0\n",
       "...          ...     ...     ...     ...     ...       ...      ...\n",
       "4516  06-11-2017  68.220  68.450  68.220  68.220    995731        0\n",
       "4517  07-11-2017  68.320  68.640  68.040  68.250    966466        0\n",
       "4518  08-11-2017  68.100  68.330  67.771  68.110    972616        0\n",
       "4519  09-11-2017  67.920  67.980  66.910  67.470   1673083        0\n",
       "4520  10-11-2017  67.350  67.580  66.700  66.810   1704549        0\n",
       "\n",
       "[4521 rows x 7 columns]"
      ]
     },
     "execution_count": 4,
     "metadata": {},
     "output_type": "execute_result"
    }
   ],
   "source": [
    "ip"
   ]
  },
  {
   "cell_type": "code",
   "execution_count": 22,
   "metadata": {},
   "outputs": [],
   "source": [
    "X=ip.drop('Close',axis=1).drop('Date',axis=1)\n",
    "y=ip['Close']"
   ]
  },
  {
   "cell_type": "code",
   "execution_count": 23,
   "metadata": {},
   "outputs": [
    {
     "data": {
      "text/html": [
       "<div>\n",
       "<style scoped>\n",
       "    .dataframe tbody tr th:only-of-type {\n",
       "        vertical-align: middle;\n",
       "    }\n",
       "\n",
       "    .dataframe tbody tr th {\n",
       "        vertical-align: top;\n",
       "    }\n",
       "\n",
       "    .dataframe thead th {\n",
       "        text-align: right;\n",
       "    }\n",
       "</style>\n",
       "<table border=\"1\" class=\"dataframe\">\n",
       "  <thead>\n",
       "    <tr style=\"text-align: right;\">\n",
       "      <th></th>\n",
       "      <th>Open</th>\n",
       "      <th>High</th>\n",
       "      <th>Low</th>\n",
       "      <th>Volume</th>\n",
       "      <th>OpenInt</th>\n",
       "    </tr>\n",
       "  </thead>\n",
       "  <tbody>\n",
       "    <tr>\n",
       "      <td>0</td>\n",
       "      <td>30.713</td>\n",
       "      <td>33.754</td>\n",
       "      <td>27.002</td>\n",
       "      <td>66277506</td>\n",
       "      <td>0</td>\n",
       "    </tr>\n",
       "    <tr>\n",
       "      <td>1</td>\n",
       "      <td>28.986</td>\n",
       "      <td>29.027</td>\n",
       "      <td>26.872</td>\n",
       "      <td>16142920</td>\n",
       "      <td>0</td>\n",
       "    </tr>\n",
       "    <tr>\n",
       "      <td>2</td>\n",
       "      <td>27.886</td>\n",
       "      <td>29.702</td>\n",
       "      <td>27.044</td>\n",
       "      <td>6970266</td>\n",
       "      <td>0</td>\n",
       "    </tr>\n",
       "    <tr>\n",
       "      <td>3</td>\n",
       "      <td>28.688</td>\n",
       "      <td>29.446</td>\n",
       "      <td>27.002</td>\n",
       "      <td>6332082</td>\n",
       "      <td>0</td>\n",
       "    </tr>\n",
       "    <tr>\n",
       "      <td>4</td>\n",
       "      <td>27.083</td>\n",
       "      <td>28.309</td>\n",
       "      <td>27.002</td>\n",
       "      <td>5132147</td>\n",
       "      <td>0</td>\n",
       "    </tr>\n",
       "    <tr>\n",
       "      <td>...</td>\n",
       "      <td>...</td>\n",
       "      <td>...</td>\n",
       "      <td>...</td>\n",
       "      <td>...</td>\n",
       "      <td>...</td>\n",
       "    </tr>\n",
       "    <tr>\n",
       "      <td>4516</td>\n",
       "      <td>68.220</td>\n",
       "      <td>68.450</td>\n",
       "      <td>68.220</td>\n",
       "      <td>995731</td>\n",
       "      <td>0</td>\n",
       "    </tr>\n",
       "    <tr>\n",
       "      <td>4517</td>\n",
       "      <td>68.320</td>\n",
       "      <td>68.640</td>\n",
       "      <td>68.040</td>\n",
       "      <td>966466</td>\n",
       "      <td>0</td>\n",
       "    </tr>\n",
       "    <tr>\n",
       "      <td>4518</td>\n",
       "      <td>68.100</td>\n",
       "      <td>68.330</td>\n",
       "      <td>67.771</td>\n",
       "      <td>972616</td>\n",
       "      <td>0</td>\n",
       "    </tr>\n",
       "    <tr>\n",
       "      <td>4519</td>\n",
       "      <td>67.920</td>\n",
       "      <td>67.980</td>\n",
       "      <td>66.910</td>\n",
       "      <td>1673083</td>\n",
       "      <td>0</td>\n",
       "    </tr>\n",
       "    <tr>\n",
       "      <td>4520</td>\n",
       "      <td>67.350</td>\n",
       "      <td>67.580</td>\n",
       "      <td>66.700</td>\n",
       "      <td>1704549</td>\n",
       "      <td>0</td>\n",
       "    </tr>\n",
       "  </tbody>\n",
       "</table>\n",
       "<p>4521 rows × 5 columns</p>\n",
       "</div>"
      ],
      "text/plain": [
       "        Open    High     Low    Volume  OpenInt\n",
       "0     30.713  33.754  27.002  66277506        0\n",
       "1     28.986  29.027  26.872  16142920        0\n",
       "2     27.886  29.702  27.044   6970266        0\n",
       "3     28.688  29.446  27.002   6332082        0\n",
       "4     27.083  28.309  27.002   5132147        0\n",
       "...      ...     ...     ...       ...      ...\n",
       "4516  68.220  68.450  68.220    995731        0\n",
       "4517  68.320  68.640  68.040    966466        0\n",
       "4518  68.100  68.330  67.771    972616        0\n",
       "4519  67.920  67.980  66.910   1673083        0\n",
       "4520  67.350  67.580  66.700   1704549        0\n",
       "\n",
       "[4521 rows x 5 columns]"
      ]
     },
     "execution_count": 23,
     "metadata": {},
     "output_type": "execute_result"
    }
   ],
   "source": [
    "X"
   ]
  },
  {
   "cell_type": "code",
   "execution_count": 24,
   "metadata": {},
   "outputs": [
    {
     "name": "stdout",
     "output_type": "stream",
     "text": [
      "MinMaxScaler(copy=True, feature_range=(0, 1))\n"
     ]
    }
   ],
   "source": [
    "from sklearn.preprocessing import MinMaxScaler\n",
    "scaler=MinMaxScaler()\n",
    "print(scaler.fit(X))\n",
    "X=scaler.transform(X)"
   ]
  },
  {
   "cell_type": "code",
   "execution_count": 25,
   "metadata": {},
   "outputs": [],
   "source": [
    "X_train, X_test, y_train, y_test = train_test_split(X, y, test_size = 0.10,random_state=99)"
   ]
  },
  {
   "cell_type": "code",
   "execution_count": 26,
   "metadata": {},
   "outputs": [],
   "source": [
    "regressor = RandomForestRegressor(n_estimators = 1000, random_state=0, n_jobs=-1) "
   ]
  },
  {
   "cell_type": "code",
   "execution_count": 27,
   "metadata": {},
   "outputs": [
    {
     "data": {
      "text/plain": [
       "RandomForestRegressor(bootstrap=True, criterion='mse', max_depth=None,\n",
       "                      max_features='auto', max_leaf_nodes=None,\n",
       "                      min_impurity_decrease=0.0, min_impurity_split=None,\n",
       "                      min_samples_leaf=1, min_samples_split=2,\n",
       "                      min_weight_fraction_leaf=0.0, n_estimators=1000,\n",
       "                      n_jobs=-1, oob_score=False, random_state=0, verbose=0,\n",
       "                      warm_start=False)"
      ]
     },
     "execution_count": 27,
     "metadata": {},
     "output_type": "execute_result"
    }
   ],
   "source": [
    "regressor.fit(X_train, y_train)"
   ]
  },
  {
   "cell_type": "code",
   "execution_count": 28,
   "metadata": {},
   "outputs": [],
   "source": [
    "pred = regressor.predict(X_test)"
   ]
  },
  {
   "cell_type": "code",
   "execution_count": 29,
   "metadata": {},
   "outputs": [
    {
     "data": {
      "text/plain": [
       "array([56.021769 , 21.541805 , 13.443327 , 36.753888 , 41.166571 ,\n",
       "       25.778645 , 30.590961 , 46.287586 , 23.155729 , 13.979983 ,\n",
       "       46.212775 , 32.668994 , 20.94174  , 26.277357 , 20.882701 ,\n",
       "       19.99982  , 14.574505 , 39.145559 , 39.126572 , 19.416646 ,\n",
       "       21.823275 , 22.943768 , 24.819604 ,  9.5519906, 12.701464 ,\n",
       "       27.70435  , 38.407082 , 12.685826 , 46.060911 , 14.801229 ,\n",
       "       50.643158 , 24.016694 , 16.714047 , 40.704411 , 24.345721 ,\n",
       "       42.074077 , 18.011336 , 30.305333 , 24.936035 , 21.123389 ,\n",
       "       23.530979 , 39.393764 , 44.879836 , 51.359    , 31.585177 ,\n",
       "       25.607918 , 26.229938 , 20.793904 , 25.453558 , 17.729057 ,\n",
       "       40.531873 , 40.901495 , 39.546076 , 34.792935 , 45.537123 ,\n",
       "       24.469327 , 16.094033 , 31.962145 , 25.122878 , 41.50195  ,\n",
       "       23.98024  , 20.102747 , 44.334757 , 10.927044 , 14.709626 ,\n",
       "       16.601141 , 18.895425 , 19.933994 , 22.234613 , 23.246478 ,\n",
       "       24.414534 , 21.377923 , 17.319778 , 24.002516 , 13.15131  ,\n",
       "       20.866706 , 12.471357 , 20.309084 , 12.164464 , 29.608445 ,\n",
       "       16.850037 , 28.790354 , 32.859825 , 16.807106 , 38.602386 ,\n",
       "       21.515604 , 41.025127 , 22.575326 , 38.423885 , 29.223318 ,\n",
       "       28.819696 , 25.256819 , 21.798567 , 22.012797 , 30.575945 ,\n",
       "       51.127577 , 39.12932  , 48.98509  , 22.591022 , 55.245298 ,\n",
       "       41.027004 , 26.015168 , 21.876961 , 25.554959 , 50.076704 ,\n",
       "       34.371241 , 15.230716 , 27.799943 , 22.864006 , 16.403605 ,\n",
       "       12.284078 , 11.473519 , 16.356575 , 37.594991 , 60.225834 ,\n",
       "       27.346033 , 11.564903 , 34.265387 , 24.632975 , 26.08401  ,\n",
       "       11.432388 , 38.970264 , 30.319048 , 18.495316 , 15.687835 ,\n",
       "       22.941156 , 17.500234 , 36.343979 , 21.550143 , 13.261187 ,\n",
       "       17.267428 , 17.903762 , 18.496999 , 17.135865 , 24.572636 ,\n",
       "       11.810641 , 33.395797 , 22.78149  , 38.311025 , 11.397073 ,\n",
       "       46.543895 , 24.046246 , 11.416545 , 19.670354 ,  9.3607699,\n",
       "       21.099586 , 60.191962 , 40.65908  , 33.318467 , 21.42737  ,\n",
       "       13.236527 , 13.907943 , 46.253664 , 26.677771 , 34.900423 ,\n",
       "       36.005995 , 39.356683 , 30.548217 , 52.556168 , 23.966589 ,\n",
       "       25.199176 , 23.117453 , 14.979052 , 28.644805 , 40.970899 ,\n",
       "       61.332588 , 22.337768 , 19.647081 , 29.571568 , 16.090005 ,\n",
       "       23.525    , 30.71923  , 15.90634  , 12.762881 , 41.409758 ,\n",
       "       37.06973  , 34.344405 , 17.38124  , 10.565554 , 10.152082 ,\n",
       "       23.868989 , 28.367602 , 24.485141 , 13.302806 , 63.040789 ,\n",
       "       23.030218 , 26.766189 , 30.408093 , 22.331304 , 34.995046 ,\n",
       "       44.474168 , 23.464285 , 15.173933 , 18.547448 , 25.884411 ,\n",
       "       20.740831 , 22.161615 , 16.811131 , 23.874148 , 19.775516 ,\n",
       "       23.803991 , 10.684892 , 17.510228 , 12.574519 , 15.768554 ,\n",
       "       23.313243 , 14.02357  , 13.280768 , 30.840171 , 16.36822  ,\n",
       "       25.354907 , 29.288524 , 37.893483 , 22.397081 , 59.013586 ,\n",
       "       11.047711 , 24.734786 , 42.988384 , 20.783462 , 20.022268 ,\n",
       "       43.64257  , 32.110218 , 28.533296 , 22.823896 , 19.476028 ,\n",
       "       28.607764 , 14.938348 , 31.044123 , 28.625759 , 73.930493 ,\n",
       "       22.049155 , 35.952643 , 22.327824 , 23.599287 , 29.717812 ,\n",
       "       12.875512 , 52.646734 , 19.618351 , 43.684862 , 26.561257 ,\n",
       "       13.050761 , 26.889927 , 14.652227 , 26.589564 , 22.468407 ,\n",
       "       12.606193 , 39.816047 , 26.710039 , 40.108473 , 45.786266 ,\n",
       "       20.408402 , 20.461952 , 20.547675 , 19.113393 , 19.458192 ,\n",
       "       19.912612 , 26.206903 , 23.599441 , 16.743223 , 16.801218 ,\n",
       "       51.032111 , 32.756558 , 61.823973 , 38.912816 , 24.752971 ,\n",
       "       25.94054  , 20.367742 , 28.890976 , 52.572834 , 66.622736 ,\n",
       "       20.590342 , 13.442049 , 21.976605 , 29.147362 , 25.978404 ,\n",
       "       38.889055 , 33.652846 , 18.352393 , 12.487929 , 13.053659 ,\n",
       "       28.949069 , 22.819276 , 35.389867 , 25.189316 , 60.224649 ,\n",
       "       24.801949 , 23.683407 , 21.719336 , 24.982115 , 22.966935 ,\n",
       "       39.687461 , 25.519717 , 58.86009  , 24.0683   , 21.577269 ,\n",
       "       66.056694 , 39.04697  , 77.689382 , 34.792853 , 18.46398  ,\n",
       "       41.444752 , 21.422032 , 25.458109 , 11.66473  , 39.686233 ,\n",
       "       21.390228 , 24.732955 , 38.684856 , 45.190577 , 25.080621 ,\n",
       "       22.283817 , 14.900171 , 39.986475 , 19.895693 , 13.909905 ,\n",
       "       23.116329 , 52.075    , 18.836194 , 40.931601 , 38.275487 ,\n",
       "       26.516349 , 19.021932 , 29.240418 , 18.093898 , 34.663438 ,\n",
       "       52.542129 , 28.215211 , 15.901561 , 28.425266 , 21.990328 ,\n",
       "       19.744602 , 17.505312 , 24.970922 , 23.209126 , 20.699596 ,\n",
       "       22.68618  , 25.968804 , 77.926305 , 19.582607 , 31.943559 ,\n",
       "       27.85835  , 60.123423 , 52.575531 , 28.03843  , 11.974586 ,\n",
       "       24.967864 , 18.380769 , 30.282266 , 12.527444 , 12.232742 ,\n",
       "       32.877665 , 22.842858 , 36.233122 , 22.283893 , 20.971338 ,\n",
       "       22.426714 , 24.215484 , 15.720765 , 26.201988 , 30.167148 ,\n",
       "       40.033064 , 23.179192 , 23.884685 , 23.195064 , 24.841634 ,\n",
       "       31.430029 , 11.160206 , 17.208561 , 26.117938 , 22.002389 ,\n",
       "       39.416093 , 37.656364 ,  9.3738937, 22.231876 , 16.156602 ,\n",
       "       20.084177 , 25.181336 , 16.078899 , 26.105249 , 12.783094 ,\n",
       "       20.158141 , 31.07772  , 65.946904 , 10.986831 , 64.092547 ,\n",
       "       15.388611 , 38.428722 , 25.782553 , 52.765396 , 38.097503 ,\n",
       "       21.390027 , 29.101909 , 45.051863 , 24.726314 , 20.700485 ,\n",
       "       21.465319 , 33.323607 , 20.729388 , 38.855169 , 13.339896 ,\n",
       "       20.351082 , 23.812798 , 28.832316 , 30.371566 , 25.326191 ,\n",
       "       47.816007 , 23.758291 , 17.727023 , 33.818211 , 12.243665 ,\n",
       "       19.070665 , 24.901677 , 15.573775 , 16.887163 , 10.205708 ,\n",
       "       25.457479 , 59.035056 , 18.953186 , 12.65643  , 19.422946 ,\n",
       "       51.466878 , 29.664528 , 38.593869 , 66.670158 , 19.057871 ,\n",
       "       35.808737 , 14.690676 , 29.732404 , 80.732279 , 16.599197 ,\n",
       "       19.181215 , 17.81234  , 39.423676 , 25.692355 , 27.164149 ,\n",
       "       21.711989 , 31.072575 , 23.537945 , 26.601953 , 33.3438   ,\n",
       "       23.072838 , 17.840445 , 23.678237 , 17.622388 , 44.888771 ,\n",
       "        9.1062467, 30.712309 , 14.72462  , 20.723179 , 50.918831 ,\n",
       "       10.856694 , 22.649563 , 15.018278 ])"
      ]
     },
     "execution_count": 29,
     "metadata": {},
     "output_type": "execute_result"
    }
   ],
   "source": [
    "pred"
   ]
  },
  {
   "cell_type": "code",
   "execution_count": 30,
   "metadata": {},
   "outputs": [
    {
     "name": "stdout",
     "output_type": "stream",
     "text": [
      "0.504236375278368\n",
      "0.9984667805724955\n",
      "0.23058035165562643\n"
     ]
    }
   ],
   "source": [
    "test_set_rmse=(np.sqrt(mean_squared_error(y_test,pred)))\n",
    "test_set_r2=r2_score(y_test,pred)\n",
    "test_set_mae=mean_absolute_error(y_test,pred)\n",
    "print(test_set_rmse)\n",
    "print(test_set_r2)\n",
    "print(test_set_mae)"
   ]
  },
  {
   "cell_type": "code",
   "execution_count": 31,
   "metadata": {},
   "outputs": [
    {
     "name": "stdout",
     "output_type": "stream",
     "text": [
      "('Open', 0.005267173017799897)\n",
      "('High', 0.23018638362242302)\n",
      "('Low', 0.7642968711574882)\n",
      "('Volume', 0.0002495722022888333)\n",
      "('OpenInt', 0.0)\n"
     ]
    }
   ],
   "source": [
    "for feature in zip(labels, regressor.feature_importances_):\n",
    "    print(feature)"
   ]
  },
  {
   "cell_type": "code",
   "execution_count": 32,
   "metadata": {},
   "outputs": [
    {
     "data": {
      "text/plain": [
       "4394    56.459\n",
       "1701    21.710\n",
       "668     13.325\n",
       "4007    36.940\n",
       "3839    41.084\n",
       "         ...  \n",
       "2723    20.630\n",
       "52      52.485\n",
       "863     10.849\n",
       "2586    22.722\n",
       "935     15.162\n",
       "Name: Close, Length: 453, dtype: float64"
      ]
     },
     "execution_count": 32,
     "metadata": {},
     "output_type": "execute_result"
    }
   ],
   "source": [
    "y_test"
   ]
  },
  {
   "cell_type": "code",
   "execution_count": 33,
   "metadata": {},
   "outputs": [
    {
     "data": {
      "image/png": "[encoded data removed]",
      "text/plain": [
       "<Figure size 432x288 with 1 Axes>"
      ]
     },
     "metadata": {
      "needs_background": "light"
     },
     "output_type": "display_data"
    }
   ],
   "source": [
    "x=np.arange(0,453)\n",
    "plt.title('Close RF')\n",
    "plt.plot(x,pred,'b-',label='prediction')\n",
    "plt.plot(x,y_test,'r-',label='actual')\n",
    "plt.legend()\n",
    "plt.show()"
   ]
  },
  {
   "cell_type": "code",
   "execution_count": 34,
   "metadata": {},
   "outputs": [
    {
     "data": {
      "image/png": "[encoded data removed]",
      "text/plain": [
       "<Figure size 432x288 with 1 Axes>"
      ]
     },
     "metadata": {
      "needs_background": "light"
     },
     "output_type": "display_data"
    }
   ],
   "source": [
    "x=np.arange(0,453)\n",
    "plt.title('Close RF')\n",
    "plt.plot(x,pred,'b-',label='prediction')\n",
    "plt.legend()\n",
    "plt.show()"
   ]
  },
  {
   "cell_type": "code",
   "execution_count": 35,
   "metadata": {},
   "outputs": [
    {
     "data": {
      "image/png": "[encoded data removed]",
      "text/plain": [
       "<Figure size 432x288 with 1 Axes>"
      ]
     },
     "metadata": {
      "needs_background": "light"
     },
     "output_type": "display_data"
    }
   ],
   "source": [
    "x=np.arange(0,453)\n",
    "plt.title('Close RF')\n",
    "plt.plot(x,y_test,'r-',label='actual')\n",
    "plt.legend()\n",
    "plt.show()"
   ]
  },
  {
   "cell_type": "code",
   "execution_count": null,
   "metadata": {},
   "outputs": [],
   "source": []
  }
 ],
 "metadata": {
  "kernelspec": {
   "display_name": "Python 3",
   "language": "python",
   "name": "python3"
  },
  "language_info": {
   "codemirror_mode": {
    "name": "ipython",
    "version": 3
   },
   "file_extension": ".py",
   "mimetype": "text/x-python",
   "name": "python",
   "nbconvert_exporter": "python",
   "pygments_lexer": "ipython3",
   "version": "3.7.4"
  }
 },
 "nbformat": 4,
 "nbformat_minor": 2
}
